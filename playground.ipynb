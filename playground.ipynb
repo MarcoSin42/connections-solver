{
 "cells": [
  {
   "cell_type": "markdown",
   "id": "5ea9fbd6-01e3-429a-b564-ac313b29232a",
   "metadata": {},
   "source": [
    "# My fuck around and find out playground"
   ]
  },
  {
   "cell_type": "code",
   "execution_count": 8,
   "id": "5958e8e3-cb59-48ff-80e6-82575b697c4e",
   "metadata": {},
   "outputs": [],
   "source": [
    "import tensorflow as tf\n",
    "import tensorflow_hub as hub\n",
    "import tensorflow_text as text\n",
    "import os\n",
    "import pandas as pd\n",
    "from transformers import BertTokenizer, BertModel\n",
    "import gensim.downloader as api\n",
    "import gensim"
   ]
  },
  {
   "cell_type": "code",
   "execution_count": 9,
   "id": "3be44a07-c555-4050-af86-28d9c87cbece",
   "metadata": {},
   "outputs": [],
   "source": [
    "connections_data_file = \"./NYT-Connections-Answers/connections.json\"\n",
    "\n",
    "df = pd.read_json(connections_data_file)['answers']"
   ]
  },
  {
   "cell_type": "code",
   "execution_count": 10,
   "id": "bf28322e-d9a4-4f5f-8243-b3ee90ca24c0",
   "metadata": {},
   "outputs": [],
   "source": [
    "path = api.load(\"word2vec-google-news-300\", return_path=True)"
   ]
  },
  {
   "cell_type": "code",
   "execution_count": 11,
   "id": "2b83256e-8d5c-46d4-a58a-3542a2f5285d",
   "metadata": {},
   "outputs": [],
   "source": [
    "model = gensim.models.keyedvectors.load_word2vec_format(path, binary=True)"
   ]
  },
  {
   "cell_type": "code",
   "execution_count": 12,
   "id": "1e1fad92-14da-40bd-977b-7dc9728fda34",
   "metadata": {},
   "outputs": [],
   "source": [
    "import sklearn"
   ]
  },
  {
   "cell_type": "code",
   "execution_count": 13,
   "id": "64b28abf-c2e1-4a8d-98cf-824c5c5eaecf",
   "metadata": {},
   "outputs": [
    {
     "name": "stdout",
     "output_type": "stream",
     "text": [
      "{'level': 0, 'group': 'WET WEATHER', 'members': ['HAIL', 'RAIN', 'SLEET', 'SNOW']}\n",
      "{'level': 1, 'group': 'NBA TEAMS', 'members': ['BUCKS', 'HEAT', 'JAZZ', 'NETS']}\n",
      "{'level': 2, 'group': 'KEYBOARD KEYS', 'members': ['OPTION', 'RETURN', 'SHIFT', 'TAB']}\n",
      "{'level': 3, 'group': 'PALINDROMES', 'members': ['KAYAK', 'LEVEL', 'MOM', 'RACECAR']}\n"
     ]
    }
   ],
   "source": [
    "for i in df[0]:\n",
    "    print(i)"
   ]
  },
  {
   "cell_type": "code",
   "execution_count": 14,
   "id": "9be371a0-621d-43ce-b286-e20c656adb4e",
   "metadata": {},
   "outputs": [],
   "source": [
    "def utility(row):\n",
    "    out = []\n",
    "    for level in row:\n",
    "        out.append(\n",
    "            [member.lower() for member in level['members']]\n",
    "        )\n",
    "    \n",
    "    return out"
   ]
  },
  {
   "cell_type": "code",
   "execution_count": 15,
   "id": "45dbc058-070b-4280-96f1-e4eaed5137e5",
   "metadata": {},
   "outputs": [],
   "source": [
    "df = df.apply(lambda x: utility(x))"
   ]
  },
  {
   "cell_type": "code",
   "execution_count": 16,
   "id": "c0fc02d0-151c-46d8-ad2c-1710a1a20028",
   "metadata": {},
   "outputs": [],
   "source": [
    "flat = [x for row in df[0] for x in row]"
   ]
  },
  {
   "cell_type": "code",
   "execution_count": 17,
   "id": "08bc2b40-df22-4519-9484-3bd03cd8dbfa",
   "metadata": {
    "scrolled": true
   },
   "outputs": [
    {
     "data": {
      "text/plain": [
       "['hail',\n",
       " 'rain',\n",
       " 'sleet',\n",
       " 'snow',\n",
       " 'bucks',\n",
       " 'heat',\n",
       " 'jazz',\n",
       " 'nets',\n",
       " 'option',\n",
       " 'return',\n",
       " 'shift',\n",
       " 'tab',\n",
       " 'kayak',\n",
       " 'level',\n",
       " 'mom',\n",
       " 'racecar']"
      ]
     },
     "execution_count": 17,
     "metadata": {},
     "output_type": "execute_result"
    }
   ],
   "source": [
    "flat"
   ]
  },
  {
   "cell_type": "code",
   "execution_count": 18,
   "id": "683259da-82ef-445c-8ff1-b5f403a95a22",
   "metadata": {},
   "outputs": [],
   "source": [
    "from sklearn.cluster import KMeans"
   ]
  },
  {
   "cell_type": "code",
   "execution_count": 19,
   "id": "88475e7e-7b7c-4b2b-ba45-4ad23ad95f35",
   "metadata": {},
   "outputs": [],
   "source": [
    "import numpy as np"
   ]
  },
  {
   "cell_type": "code",
   "execution_count": 20,
   "id": "6e641fbe-e8fe-4fc9-b929-c0dab7e44148",
   "metadata": {},
   "outputs": [],
   "source": [
    "def get_vector_dict(words: list[str]):\n",
    "    out = {}\n",
    "    for word in words:\n",
    "        vector = model.get_vector(word)\n",
    "        out[vector] = word\n",
    "    return out"
   ]
  },
  {
   "cell_type": "code",
   "execution_count": 21,
   "id": "5477c6b2-447d-4026-8bb2-018a6cc8687e",
   "metadata": {},
   "outputs": [],
   "source": [
    "def get_vectors(words: list[str], model):\n",
    "    lst_of_vecs = []\n",
    "    for word in words:\n",
    "        lst_of_vecs.append(model.get_vector(word, norm=True))\n",
    "    return np.array(lst_of_vecs)"
   ]
  },
  {
   "cell_type": "code",
   "execution_count": 22,
   "id": "e94584ae-96a4-4ef0-835e-19c4201ad68b",
   "metadata": {},
   "outputs": [],
   "source": [
    "kmeans = KMeans(n_clusters=4).fit_predict(get_vectors(flat ,model))"
   ]
  },
  {
   "cell_type": "code",
   "execution_count": 23,
   "id": "99bd514a-2774-4f3f-a5e9-29195b69f619",
   "metadata": {},
   "outputs": [],
   "source": [
    "from k_means_constrained import KMeansConstrained"
   ]
  },
  {
   "cell_type": "code",
   "execution_count": 24,
   "id": "b056b7c2-acd8-4b3f-872c-7544def2ffdc",
   "metadata": {},
   "outputs": [],
   "source": [
    "kmeans_const = KMeansConstrained(\n",
    "    n_clusters=4,\n",
    "    size_min=4,\n",
    "    size_max=4,\n",
    "    random_state=0\n",
    ")"
   ]
  },
  {
   "cell_type": "code",
   "execution_count": 25,
   "id": "20ade56b-f668-4071-8d6f-7252058d16d4",
   "metadata": {},
   "outputs": [
    {
     "data": {
      "text/plain": [
       "array([1, 1, 1, 1, 2, 1, 1, 2, 0, 0, 2, 2, 3, 0, 2, 3], dtype=int32)"
      ]
     },
     "execution_count": 25,
     "metadata": {},
     "output_type": "execute_result"
    }
   ],
   "source": [
    "kmeans"
   ]
  },
  {
   "cell_type": "code",
   "execution_count": 26,
   "id": "93497b5d-2fcb-439e-9e92-f4e929a6acc0",
   "metadata": {},
   "outputs": [],
   "source": [
    "actual = [[i]*4 for i in range(4)]\n",
    "actual = [x for row in actual for x in row]"
   ]
  },
  {
   "cell_type": "code",
   "execution_count": 27,
   "id": "d1afe3f0-a0d7-420d-bd8e-6b84dfde1370",
   "metadata": {},
   "outputs": [
    {
     "data": {
      "text/plain": [
       "[0, 0, 0, 0, 1, 1, 1, 1, 2, 2, 2, 2, 3, 3, 3, 3]"
      ]
     },
     "execution_count": 27,
     "metadata": {},
     "output_type": "execute_result"
    }
   ],
   "source": [
    "actual"
   ]
  },
  {
   "cell_type": "code",
   "execution_count": 28,
   "id": "68f5ddc2-4f5b-4e95-9aa1-8602104563f5",
   "metadata": {},
   "outputs": [],
   "source": [
    "import numpy as np"
   ]
  },
  {
   "cell_type": "code",
   "execution_count": 29,
   "id": "d65c0a80-4659-4f32-8413-c3d36dc0c172",
   "metadata": {},
   "outputs": [],
   "source": [
    "from sklearn.metrics import confusion_matrix, ConfusionMatrixDisplay\n"
   ]
  },
  {
   "cell_type": "code",
   "execution_count": 30,
   "id": "28358525-576b-4a46-ae59-6b671da57fdd",
   "metadata": {},
   "outputs": [],
   "source": [
    "cmatrix = confusion_matrix(actual, kmeans)"
   ]
  },
  {
   "cell_type": "code",
   "execution_count": 31,
   "id": "751c545b-c1c6-4aab-8d7b-0ee5b84aea03",
   "metadata": {},
   "outputs": [],
   "source": [
    "from sklearn.metrics import accuracy_score"
   ]
  },
  {
   "cell_type": "code",
   "execution_count": 32,
   "id": "c7436928-a1b1-4682-bf94-468d6f810cda",
   "metadata": {},
   "outputs": [
    {
     "data": {
      "text/plain": [
       "0.375"
      ]
     },
     "execution_count": 32,
     "metadata": {},
     "output_type": "execute_result"
    }
   ],
   "source": [
    "accuracy_score(kmeans, actual)"
   ]
  },
  {
   "cell_type": "code",
   "execution_count": 33,
   "id": "706b5bf8-9440-4a38-92d6-02a808656efd",
   "metadata": {},
   "outputs": [
    {
     "data": {
      "text/plain": [
       "<sklearn.metrics._plot.confusion_matrix.ConfusionMatrixDisplay at 0x7fde58827400>"
      ]
     },
     "execution_count": 33,
     "metadata": {},
     "output_type": "execute_result"
    },
    {
     "data": {
      "image/png": "[encoded data removed]",
      "text/plain": [
       "<Figure size 640x480 with 2 Axes>"
      ]
     },
     "metadata": {},
     "output_type": "display_data"
    }
   ],
   "source": [
    "ConfusionMatrixDisplay(confusion_matrix=cmatrix).plot()"
   ]
  },
  {
   "cell_type": "code",
   "execution_count": 34,
   "id": "29b90aa2-140e-4d6e-87d4-cc409fa7f538",
   "metadata": {},
   "outputs": [],
   "source": [
    "from itertools import permutations"
   ]
  },
  {
   "cell_type": "code",
   "execution_count": 35,
   "id": "df509564-bc95-4448-838e-230afb6e4e3d",
   "metadata": {},
   "outputs": [
    {
     "data": {
      "text/plain": [
       "[(0, 1, 2, 3),\n",
       " (0, 1, 3, 2),\n",
       " (0, 2, 1, 3),\n",
       " (0, 2, 3, 1),\n",
       " (0, 3, 1, 2),\n",
       " (0, 3, 2, 1),\n",
       " (1, 0, 2, 3),\n",
       " (1, 0, 3, 2),\n",
       " (1, 2, 0, 3),\n",
       " (1, 2, 3, 0),\n",
       " (1, 3, 0, 2),\n",
       " (1, 3, 2, 0),\n",
       " (2, 0, 1, 3),\n",
       " (2, 0, 3, 1),\n",
       " (2, 1, 0, 3),\n",
       " (2, 1, 3, 0),\n",
       " (2, 3, 0, 1),\n",
       " (2, 3, 1, 0),\n",
       " (3, 0, 1, 2),\n",
       " (3, 0, 2, 1),\n",
       " (3, 1, 0, 2),\n",
       " (3, 1, 2, 0),\n",
       " (3, 2, 0, 1),\n",
       " (3, 2, 1, 0)]"
      ]
     },
     "execution_count": 35,
     "metadata": {},
     "output_type": "execute_result"
    }
   ],
   "source": [
    "list(permutations([0,1,2,3]))"
   ]
  },
  {
   "cell_type": "code",
   "execution_count": null,
   "id": "0373eb7b-c35c-40df-9dcb-2d9c30fd510b",
   "metadata": {},
   "outputs": [],
   "source": []
  }
 ],
 "metadata": {
  "kernelspec": {
   "display_name": "Python 3 (ipykernel)",
   "language": "python",
   "name": "python3"
  },
  "language_info": {
   "codemirror_mode": {
    "name": "ipython",
    "version": 3
   },
   "file_extension": ".py",
   "mimetype": "text/x-python",
   "name": "python",
   "nbconvert_exporter": "python",
   "pygments_lexer": "ipython3",
   "version": "3.10.14"
  },
  "widgets": {
   "application/vnd.jupyter.widget-state+json": {
    "state": {},
    "version_major": 2,
    "version_minor": 0
   }
  }
 },
 "nbformat": 4,
 "nbformat_minor": 5
}
