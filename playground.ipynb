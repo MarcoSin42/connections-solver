{
 "cells": [
  {
   "cell_type": "markdown",
   "id": "5ea9fbd6-01e3-429a-b564-ac313b29232a",
   "metadata": {},
   "source": [
    "# My fuck around and find out playground"
   ]
  },
  {
   "cell_type": "code",
   "execution_count": 48,
   "id": "5958e8e3-cb59-48ff-80e6-82575b697c4e",
   "metadata": {},
   "outputs": [],
   "source": [
    "import tensorflow as tf\n",
    "import tensorflow_hub as hub\n",
    "import tensorflow_text as text\n",
    "import os\n",
    "import pandas as pd\n",
    "from transformers import BertTokenizer, BertModel\n",
    "import gensim.downloader as api\n",
    "import gensim"
   ]
  },
  {
   "cell_type": "code",
   "execution_count": 232,
   "id": "3be44a07-c555-4050-af86-28d9c87cbece",
   "metadata": {},
   "outputs": [],
   "source": [
    "connections_data_file = \"./NYT-Connections-Answers/connections.json\"\n",
    "\n",
    "df = pd.read_json(connections_data_file)['answers']"
   ]
  },
  {
   "cell_type": "code",
   "execution_count": 46,
   "id": "bf28322e-d9a4-4f5f-8243-b3ee90ca24c0",
   "metadata": {},
   "outputs": [
    {
     "name": "stdout",
     "output_type": "stream",
     "text": [
      "[--------------------------------------------------] 1.4% 23.4/1662.8MB downloaded"
     ]
    },
    {
     "name": "stderr",
     "output_type": "stream",
     "text": [
      "IOPub message rate exceeded.\n",
      "The Jupyter server will temporarily stop sending output\n",
      "to the client in order to avoid crashing it.\n",
      "To change this limit, set the config variable\n",
      "`--ServerApp.iopub_msg_rate_limit`.\n",
      "\n",
      "Current values:\n",
      "ServerApp.iopub_msg_rate_limit=1000.0 (msgs/sec)\n",
      "ServerApp.rate_limit_window=3.0 (secs)\n",
      "\n"
     ]
    },
    {
     "name": "stdout",
     "output_type": "stream",
     "text": [
      "[================================================--] 97.8% 1627.0/1662.8MB downloaded\n"
     ]
    }
   ],
   "source": [
    "path = api.load(\"word2vec-google-news-300\", return_path=True)"
   ]
  },
  {
   "cell_type": "code",
   "execution_count": 52,
   "id": "2b83256e-8d5c-46d4-a58a-3542a2f5285d",
   "metadata": {},
   "outputs": [],
   "source": [
    "model = gensim.models.keyedvectors.load_word2vec_format(path, binary=True)"
   ]
  },
  {
   "cell_type": "code",
   "execution_count": 236,
   "id": "1e1fad92-14da-40bd-977b-7dc9728fda34",
   "metadata": {},
   "outputs": [],
   "source": [
    "import sklearn"
   ]
  },
  {
   "cell_type": "code",
   "execution_count": 191,
   "id": "64b28abf-c2e1-4a8d-98cf-824c5c5eaecf",
   "metadata": {},
   "outputs": [
    {
     "name": "stdout",
     "output_type": "stream",
     "text": [
      "{'level': 0, 'group': 'WET WEATHER', 'members': ['HAIL', 'RAIN', 'SLEET', 'SNOW', 'slut', 'slut']}\n",
      "{'level': 1, 'group': 'NBA TEAMS', 'members': ['BUCKS', 'HEAT', 'JAZZ', 'NETS']}\n",
      "{'level': 2, 'group': 'KEYBOARD KEYS', 'members': ['OPTION', 'RETURN', 'SHIFT', 'TAB']}\n",
      "{'level': 3, 'group': 'PALINDROMES', 'members': ['KAYAK', 'LEVEL', 'MOM', 'RACECAR']}\n"
     ]
    }
   ],
   "source": [
    "for i in df[0]:\n",
    "    print(i)"
   ]
  },
  {
   "cell_type": "code",
   "execution_count": 192,
   "id": "9be371a0-621d-43ce-b286-e20c656adb4e",
   "metadata": {},
   "outputs": [],
   "source": [
    "def utility(row):\n",
    "    out = []\n",
    "    for level in row:\n",
    "        out.append(\n",
    "            [member.lower() for member in level['members']]\n",
    "        )\n",
    "    \n",
    "    return out"
   ]
  },
  {
   "cell_type": "code",
   "execution_count": 194,
   "id": "772ee802-8ae6-4447-b409-1717faa0387e",
   "metadata": {},
   "outputs": [
    {
     "data": {
      "text/plain": [
       "[['boot', 'loafer', 'pump', 'sneaker'],\n",
       " ['foot', 'league', 'mile', 'yard'],\n",
       " ['essence', 'people', 'time', 'us'],\n",
       " ['are', 'queue', 'sea', 'why']]"
      ]
     },
     "execution_count": 194,
     "metadata": {},
     "output_type": "execute_result"
    }
   ],
   "source": [
    "utility(df[1])"
   ]
  },
  {
   "cell_type": "code",
   "execution_count": 237,
   "id": "45dbc058-070b-4280-96f1-e4eaed5137e5",
   "metadata": {},
   "outputs": [],
   "source": [
    "df = df.apply(lambda x: utility(x))"
   ]
  },
  {
   "cell_type": "code",
   "execution_count": 240,
   "id": "c0fc02d0-151c-46d8-ad2c-1710a1a20028",
   "metadata": {},
   "outputs": [],
   "source": [
    "flat = [x for row in df[0] for x in row]"
   ]
  },
  {
   "cell_type": "code",
   "execution_count": 241,
   "id": "08bc2b40-df22-4519-9484-3bd03cd8dbfa",
   "metadata": {},
   "outputs": [
    {
     "data": {
      "text/plain": [
       "['hail',\n",
       " 'rain',\n",
       " 'sleet',\n",
       " 'snow',\n",
       " 'bucks',\n",
       " 'heat',\n",
       " 'jazz',\n",
       " 'nets',\n",
       " 'option',\n",
       " 'return',\n",
       " 'shift',\n",
       " 'tab',\n",
       " 'kayak',\n",
       " 'level',\n",
       " 'mom',\n",
       " 'racecar']"
      ]
     },
     "execution_count": 241,
     "metadata": {},
     "output_type": "execute_result"
    }
   ],
   "source": [
    "flat"
   ]
  },
  {
   "cell_type": "code",
   "execution_count": 205,
   "id": "683259da-82ef-445c-8ff1-b5f403a95a22",
   "metadata": {},
   "outputs": [],
   "source": [
    "from sklearn.cluster import KMeans"
   ]
  },
  {
   "cell_type": "code",
   "execution_count": 225,
   "id": "88475e7e-7b7c-4b2b-ba45-4ad23ad95f35",
   "metadata": {},
   "outputs": [],
   "source": [
    "import numpy as np"
   ]
  },
  {
   "cell_type": "code",
   "execution_count": 216,
   "id": "6e641fbe-e8fe-4fc9-b929-c0dab7e44148",
   "metadata": {},
   "outputs": [],
   "source": [
    "def get_vector_dict(words: list[str]):\n",
    "    out = {}\n",
    "    for word in words:\n",
    "        vector = model.get_vector(word)\n",
    "        out[vector] = word\n",
    "    return out"
   ]
  },
  {
   "cell_type": "code",
   "execution_count": 226,
   "id": "5477c6b2-447d-4026-8bb2-018a6cc8687e",
   "metadata": {},
   "outputs": [],
   "source": [
    "def get_vectors(words: list[str]):\n",
    "    lst_of_vecs = []\n",
    "    for word in words:\n",
    "        lst_of_vecs.append(model.get_vector(word, norm=True))\n",
    "    return np.array(lst_of_vecs)"
   ]
  },
  {
   "cell_type": "code",
   "execution_count": 261,
   "id": "6a938674-06b3-4882-8523-cdd48bf2fd1d",
   "metadata": {},
   "outputs": [],
   "source": [
    "from random import shuffle"
   ]
  },
  {
   "cell_type": "code",
   "execution_count": 263,
   "id": "e94584ae-96a4-4ef0-835e-19c4201ad68b",
   "metadata": {},
   "outputs": [],
   "source": [
    "shuffle(flat)\n",
    "kmeans = KMeans(n_clusters=4).fit_predict(get_vectors(flat))"
   ]
  },
  {
   "cell_type": "code",
   "execution_count": 264,
   "id": "99bd514a-2774-4f3f-a5e9-29195b69f619",
   "metadata": {},
   "outputs": [
    {
     "data": {
      "text/plain": [
       "array([1, 0, 2, 3, 1, 2, 3, 0, 3, 1, 2, 3, 2, 1, 1, 2], dtype=int32)"
      ]
     },
     "execution_count": 264,
     "metadata": {},
     "output_type": "execute_result"
    }
   ],
   "source": []
  },
  {
   "cell_type": "code",
   "execution_count": null,
   "id": "1d8901f4-5e59-4bf5-b325-d598b8357358",
   "metadata": {},
   "outputs": [],
   "source": []
  }
 ],
 "metadata": {
  "kernelspec": {
   "display_name": "Python 3 (ipykernel)",
   "language": "python",
   "name": "python3"
  },
  "language_info": {
   "codemirror_mode": {
    "name": "ipython",
    "version": 3
   },
   "file_extension": ".py",
   "mimetype": "text/x-python",
   "name": "python",
   "nbconvert_exporter": "python",
   "pygments_lexer": "ipython3",
   "version": "3.10.13"
  },
  "widgets": {
   "application/vnd.jupyter.widget-state+json": {
    "state": {},
    "version_major": 2,
    "version_minor": 0
   }
  }
 },
 "nbformat": 4,
 "nbformat_minor": 5
}
