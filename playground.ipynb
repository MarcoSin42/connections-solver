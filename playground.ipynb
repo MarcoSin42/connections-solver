{
 "cells": [
  {
   "cell_type": "markdown",
   "id": "5ea9fbd6-01e3-429a-b564-ac313b29232a",
   "metadata": {},
   "source": [
    "# My fuck around and find out playground"
   ]
  },
  {
   "cell_type": "code",
   "execution_count": 48,
   "id": "5958e8e3-cb59-48ff-80e6-82575b697c4e",
   "metadata": {},
   "outputs": [],
   "source": [
    "import tensorflow as tf\n",
    "import tensorflow_hub as hub\n",
    "import tensorflow_text as text\n",
    "import os\n",
    "import pandas as pd\n",
    "from transformers import BertTokenizer, BertModel\n",
    "import gensim.downloader as api\n",
    "import gensim"
   ]
  },
  {
   "cell_type": "code",
   "execution_count": 232,
   "id": "3be44a07-c555-4050-af86-28d9c87cbece",
   "metadata": {},
   "outputs": [],
   "source": [
    "connections_data_file = \"./NYT-Connections-Answers/connections.json\"\n",
    "\n",
    "df = pd.read_json(connections_data_file)['answers']"
   ]
  },
  {
   "cell_type": "code",
   "execution_count": 46,
   "id": "bf28322e-d9a4-4f5f-8243-b3ee90ca24c0",
   "metadata": {},
   "outputs": [
    {
     "name": "stdout",
     "output_type": "stream",
     "text": [
      "[--------------------------------------------------] 1.4% 23.4/1662.8MB downloaded"
     ]
    },
    {
     "name": "stderr",
     "output_type": "stream",
     "text": [
      "IOPub message rate exceeded.\n",
      "The Jupyter server will temporarily stop sending output\n",
      "to the client in order to avoid crashing it.\n",
      "To change this limit, set the config variable\n",
      "`--ServerApp.iopub_msg_rate_limit`.\n",
      "\n",
      "Current values:\n",
      "ServerApp.iopub_msg_rate_limit=1000.0 (msgs/sec)\n",
      "ServerApp.rate_limit_window=3.0 (secs)\n",
      "\n"
     ]
    },
    {
     "name": "stdout",
     "output_type": "stream",
     "text": [
      "[================================================--] 97.8% 1627.0/1662.8MB downloaded\n"
     ]
    }
   ],
   "source": [
    "path = api.load(\"word2vec-google-news-300\", return_path=True)"
   ]
  },
  {
   "cell_type": "code",
   "execution_count": 52,
   "id": "2b83256e-8d5c-46d4-a58a-3542a2f5285d",
   "metadata": {},
   "outputs": [],
   "source": [
    "model = gensim.models.keyedvectors.load_word2vec_format(path, binary=True)"
   ]
  },
  {
   "cell_type": "code",
   "execution_count": 236,
   "id": "1e1fad92-14da-40bd-977b-7dc9728fda34",
   "metadata": {},
   "outputs": [],
   "source": [
    "import sklearn"
   ]
  },
  {
   "cell_type": "code",
   "execution_count": 281,
   "id": "64b28abf-c2e1-4a8d-98cf-824c5c5eaecf",
   "metadata": {},
   "outputs": [
    {
     "name": "stdout",
     "output_type": "stream",
     "text": [
      "['hail', 'rain', 'sleet', 'snow']\n",
      "['bucks', 'heat', 'jazz', 'nets']\n",
      "['option', 'return', 'shift', 'tab']\n",
      "['kayak', 'level', 'mom', 'racecar']\n"
     ]
    }
   ],
   "source": [
    "for i in df[0]:\n",
    "    print(i)"
   ]
  },
  {
   "cell_type": "code",
   "execution_count": 192,
   "id": "9be371a0-621d-43ce-b286-e20c656adb4e",
   "metadata": {},
   "outputs": [],
   "source": [
    "def utility(row):\n",
    "    out = []\n",
    "    for level in row:\n",
    "        out.append(\n",
    "            [member.lower() for member in level['members']]\n",
    "        )\n",
    "    \n",
    "    return out"
   ]
  },
  {
   "cell_type": "code",
   "execution_count": 194,
   "id": "772ee802-8ae6-4447-b409-1717faa0387e",
   "metadata": {},
   "outputs": [
    {
     "data": {
      "text/plain": [
       "[['boot', 'loafer', 'pump', 'sneaker'],\n",
       " ['foot', 'league', 'mile', 'yard'],\n",
       " ['essence', 'people', 'time', 'us'],\n",
       " ['are', 'queue', 'sea', 'why']]"
      ]
     },
     "execution_count": 194,
     "metadata": {},
     "output_type": "execute_result"
    }
   ],
   "source": [
    "utility(df[1])"
   ]
  },
  {
   "cell_type": "code",
   "execution_count": 237,
   "id": "45dbc058-070b-4280-96f1-e4eaed5137e5",
   "metadata": {},
   "outputs": [],
   "source": [
    "df = df.apply(lambda x: utility(x))"
   ]
  },
  {
   "cell_type": "code",
   "execution_count": 265,
   "id": "c0fc02d0-151c-46d8-ad2c-1710a1a20028",
   "metadata": {},
   "outputs": [],
   "source": [
    "flat = [x for row in df[0] for x in row]"
   ]
  },
  {
   "cell_type": "code",
   "execution_count": 266,
   "id": "08bc2b40-df22-4519-9484-3bd03cd8dbfa",
   "metadata": {},
   "outputs": [
    {
     "data": {
      "text/plain": [
       "['hail',\n",
       " 'rain',\n",
       " 'sleet',\n",
       " 'snow',\n",
       " 'bucks',\n",
       " 'heat',\n",
       " 'jazz',\n",
       " 'nets',\n",
       " 'option',\n",
       " 'return',\n",
       " 'shift',\n",
       " 'tab',\n",
       " 'kayak',\n",
       " 'level',\n",
       " 'mom',\n",
       " 'racecar']"
      ]
     },
     "execution_count": 266,
     "metadata": {},
     "output_type": "execute_result"
    }
   ],
   "source": [
    "flat"
   ]
  },
  {
   "cell_type": "code",
   "execution_count": 205,
   "id": "683259da-82ef-445c-8ff1-b5f403a95a22",
   "metadata": {},
   "outputs": [],
   "source": [
    "from sklearn.cluster import KMeans"
   ]
  },
  {
   "cell_type": "code",
   "execution_count": 225,
   "id": "88475e7e-7b7c-4b2b-ba45-4ad23ad95f35",
   "metadata": {},
   "outputs": [],
   "source": [
    "import numpy as np"
   ]
  },
  {
   "cell_type": "code",
   "execution_count": 216,
   "id": "6e641fbe-e8fe-4fc9-b929-c0dab7e44148",
   "metadata": {},
   "outputs": [],
   "source": [
    "def get_vector_dict(words: list[str]):\n",
    "    out = {}\n",
    "    for word in words:\n",
    "        vector = model.get_vector(word)\n",
    "        out[vector] = word\n",
    "    return out"
   ]
  },
  {
   "cell_type": "code",
   "execution_count": 226,
   "id": "5477c6b2-447d-4026-8bb2-018a6cc8687e",
   "metadata": {},
   "outputs": [],
   "source": [
    "def get_vectors(words: list[str]):\n",
    "    lst_of_vecs = []\n",
    "    for word in words:\n",
    "        lst_of_vecs.append(model.get_vector(word, norm=True))\n",
    "    return np.array(lst_of_vecs)"
   ]
  },
  {
   "cell_type": "code",
   "execution_count": 267,
   "id": "e94584ae-96a4-4ef0-835e-19c4201ad68b",
   "metadata": {},
   "outputs": [],
   "source": [
    "kmeans = KMeans(n_clusters=4).fit_predict(get_vectors(flat))"
   ]
  },
  {
   "cell_type": "code",
   "execution_count": 269,
   "id": "99bd514a-2774-4f3f-a5e9-29195b69f619",
   "metadata": {},
   "outputs": [],
   "source": [
    "from k_means_constrained import KMeansConstrained"
   ]
  },
  {
   "cell_type": "code",
   "execution_count": 268,
   "id": "1d8901f4-5e59-4bf5-b325-d598b8357358",
   "metadata": {},
   "outputs": [
    {
     "data": {
      "text/plain": [
       "array([1, 1, 1, 1, 2, 0, 3, 3, 2, 2, 1, 2, 3, 2, 3, 3], dtype=int32)"
      ]
     },
     "execution_count": 268,
     "metadata": {},
     "output_type": "execute_result"
    }
   ],
   "source": [
    "kmeans"
   ]
  },
  {
   "cell_type": "code",
   "execution_count": 277,
   "id": "b056b7c2-acd8-4b3f-872c-7544def2ffdc",
   "metadata": {},
   "outputs": [],
   "source": [
    "kmeans_const = KMeansConstrained(\n",
    "    n_clusters=2,\n",
    "    size_min=4,\n",
    "    size_max=4,\n",
    "    random_state=0\n",
    ")"
   ]
  },
  {
   "cell_type": "code",
   "execution_count": 280,
   "id": "08783fe4-9994-45f0-9eee-614b9c500cd2",
   "metadata": {},
   "outputs": [
    {
     "data": {
      "text/plain": [
       "array([0, 0, 0, 0, 1, 1, 1, 1], dtype=int32)"
      ]
     },
     "execution_count": 280,
     "metadata": {},
     "output_type": "execute_result"
    }
   ],
   "source": [
    "kmeans_const.fit_predict(get_vectors(flat[:-8]))"
   ]
  },
  {
   "cell_type": "code",
   "execution_count": 272,
   "id": "3bbdd6c2-e392-45f5-913b-9629fd5d705e",
   "metadata": {},
   "outputs": [
    {
     "data": {
      "text/plain": [
       "['hail',\n",
       " 'rain',\n",
       " 'sleet',\n",
       " 'snow',\n",
       " 'bucks',\n",
       " 'heat',\n",
       " 'jazz',\n",
       " 'nets',\n",
       " 'option',\n",
       " 'return',\n",
       " 'shift',\n",
       " 'tab',\n",
       " 'kayak',\n",
       " 'level',\n",
       " 'mom',\n",
       " 'racecar']"
      ]
     },
     "execution_count": 272,
     "metadata": {},
     "output_type": "execute_result"
    }
   ],
   "source": [
    "flat"
   ]
  },
  {
   "cell_type": "code",
   "execution_count": 273,
   "id": "3d523bda-02b0-496c-9e45-bc11649c4a33",
   "metadata": {},
   "outputs": [
    {
     "data": {
      "text/plain": [
       "[['hail', 'rain', 'sleet', 'snow'],\n",
       " ['bucks', 'heat', 'jazz', 'nets'],\n",
       " ['option', 'return', 'shift', 'tab'],\n",
       " ['kayak', 'level', 'mom', 'racecar']]"
      ]
     },
     "execution_count": 273,
     "metadata": {},
     "output_type": "execute_result"
    }
   ],
   "source": [
    "df[0]"
   ]
  },
  {
   "cell_type": "code",
   "execution_count": 274,
   "id": "45cdfe57-834f-4cf4-8a03-eeff23bd84ac",
   "metadata": {},
   "outputs": [
    {
     "data": {
      "text/plain": [
       "['hail',\n",
       " 'rain',\n",
       " 'sleet',\n",
       " 'snow',\n",
       " 'bucks',\n",
       " 'heat',\n",
       " 'jazz',\n",
       " 'nets',\n",
       " 'option',\n",
       " 'return',\n",
       " 'shift',\n",
       " 'tab']"
      ]
     },
     "execution_count": 274,
     "metadata": {},
     "output_type": "execute_result"
    }
   ],
   "source": [
    "flat[:-4]"
   ]
  },
  {
   "cell_type": "code",
   "execution_count": null,
   "id": "93497b5d-2fcb-439e-9e92-f4e929a6acc0",
   "metadata": {},
   "outputs": [],
   "source": []
  }
 ],
 "metadata": {
  "kernelspec": {
   "display_name": "Python 3 (ipykernel)",
   "language": "python",
   "name": "python3"
  },
  "language_info": {
   "codemirror_mode": {
    "name": "ipython",
    "version": 3
   },
   "file_extension": ".py",
   "mimetype": "text/x-python",
   "name": "python",
   "nbconvert_exporter": "python",
   "pygments_lexer": "ipython3",
   "version": "3.10.13"
  },
  "widgets": {
   "application/vnd.jupyter.widget-state+json": {
    "state": {},
    "version_major": 2,
    "version_minor": 0
   }
  }
 },
 "nbformat": 4,
 "nbformat_minor": 5
}
